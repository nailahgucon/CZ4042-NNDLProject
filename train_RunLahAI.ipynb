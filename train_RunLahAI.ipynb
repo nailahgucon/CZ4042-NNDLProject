{
 "cells": [
  {
   "cell_type": "markdown",
   "id": "8dec73db-4c35-4db0-9557-68e846d623e1",
   "metadata": {},
   "source": [
    "# CZ4042: Neural Networks and Deep Learning Course Project\n",
    "## Training Code of AI-Powered Game Bot to play RunLah"
   ]
  },
  {
   "cell_type": "markdown",
   "id": "6f3a078e-9cd1-4a35-941f-fd293ea3a134",
   "metadata": {},
   "source": [
    "**Import Necessary Libraries**"
   ]
  },
  {
   "cell_type": "code",
   "execution_count": 2,
   "id": "0effb481-0ec8-4898-a7fc-5144c7b128b8",
   "metadata": {},
   "outputs": [],
   "source": [
    "import pandas as pd\n",
    "import numpy as np\n",
    "import os\n",
    "import cv2\n",
    "from PIL import Image\n",
    "\n",
    "import torch\n",
    "from torch.utils.data import Dataset, DataLoader\n",
    "from torchvision.transforms import CenterCrop, Resize, Compose, ToTensor, Normalize\n",
    "import torchvision.models\n",
    "import torch.optim as optim\n",
    "\n",
    "import matplotlib.pyplot as plt\n",
    "from sklearn.model_selection import train_test_split\n",
    "\n",
    "from tqdm import tqdm\n",
    "import gc\n",
    "import time"
   ]
  },
  {
   "cell_type": "markdown",
   "id": "fb0a7f3d-0b9a-47d1-9d3e-3ea6cbcb9df5",
   "metadata": {},
   "source": [
    "**Check for cuda availabity (recommend to run training properly)**"
   ]
  },
  {
   "cell_type": "code",
   "execution_count": 3,
   "id": "af15fe8d-6983-49d8-9e81-fd33341ce56d",
   "metadata": {},
   "outputs": [
    {
     "data": {
      "text/plain": [
       "True"
      ]
     },
     "execution_count": 3,
     "metadata": {},
     "output_type": "execute_result"
    }
   ],
   "source": [
    "torch.cuda.is_available() # make sure this returns True"
   ]
  },
  {
   "cell_type": "markdown",
   "id": "265256db-1735-405d-8d3a-11b76bc8c7c9",
   "metadata": {},
   "source": [
    "**Create Transformer**"
   ]
  },
  {
   "cell_type": "code",
   "execution_count": 4,
   "id": "44abd4a0-1c65-403f-a1a7-fe030b3b032f",
   "metadata": {},
   "outputs": [],
   "source": [
    "# create image transformation pipeline for EfficientNet\n",
    "# mean and std values: https://pytorch.org/vision/main/models/generated/torchvision.models.efficientnet_v2_s.html#torchvision.models.efficientnet_v2_s\n",
    "transformer = Compose([\n",
    "    Resize((480,480), antialias=True),\n",
    "    CenterCrop(480),\n",
    "    Normalize(mean =[0.485, 0.456, 0.406], std =[0.229, 0.224, 0.225] )\n",
    "])"
   ]
  },
  {
   "cell_type": "markdown",
   "id": "e55cee14-940f-4e40-9e2f-4827203bd031",
   "metadata": {},
   "source": [
    "**Create RunLahDataset**"
   ]
  },
  {
   "cell_type": "code",
   "execution_count": 5,
   "id": "a876ee41-e3b8-4c08-9265-f8be30bd09ef",
   "metadata": {},
   "outputs": [],
   "source": [
    "class RunLahDataset(Dataset):\n",
    "    def __init__(self, key_frame, image_directory, transform = None):\n",
    "        # filenames and corresponding labels for images\n",
    "        self.key_frame = key_frame\n",
    "\n",
    "        # where images are found\n",
    "        self.image_directory = image_directory\n",
    "\n",
    "        # transform to be applied to images\n",
    "        self.transform = transform\n",
    "\n",
    "    # get number of image (aka len of dataset)\n",
    "    def __len__(self):\n",
    "        return len(self.key_frame)\n",
    "\n",
    "    # load images and labels\n",
    "    def __getitem__(self, idx):\n",
    "        if torch.is_tensor(idx):\n",
    "            # get index \n",
    "            idx = idx.to_list()\n",
    "\n",
    "        # find image and label location\n",
    "        name_of_image = os.path.join(self.image_directory, self.key_frame.iloc[idx,0])\n",
    "        \n",
    "        # load image\n",
    "        image = Image.open(name_of_image)\n",
    "\n",
    "        # convert image to tensor\n",
    "        image = ToTensor()(image)\n",
    "\n",
    "        # read label\n",
    "        label = torch.tensor(self.key_frame.iloc[idx, 1])\n",
    "\n",
    "        # apply transformation \n",
    "        if self.transform: \n",
    "            image = self.transform(image)\n",
    "\n",
    "        return image, label"
   ]
  },
  {
   "cell_type": "markdown",
   "id": "6fd16822-12d8-4f6e-bae8-8bd570da3db2",
   "metadata": {},
   "source": [
    "**Prerequisites: Batch Size declaration, Create train dataset and dataloader, test dataset and dataloader**"
   ]
  },
  {
   "cell_type": "code",
   "execution_count": 56,
   "id": "9744763a-4eb8-498f-923b-98b806bcb527",
   "metadata": {},
   "outputs": [],
   "source": [
    "# import csv file with the labels of images\n",
    "csv_labels = pd.read_csv(\"labels.csv\") \n",
    "\n",
    "# split dataset into 8:2 train and test sets \n",
    "csv_train, csv_test = train_test_split(csv_labels, test_size = 0.2)  \n",
    "df_train = pd.DataFrame(csv_train) \n",
    "df_test = pd.DataFrame(csv_test)\n",
    "\n",
    "# set batch size to 2, 4 or 8\n",
    "batch_size = 4\n",
    "\n",
    "# create dataset and dataloader for train\n",
    "ds_train = RunLahDataset(image_directory = \"captures\", key_frame = df_train, transform = transformer)\n",
    "dl_train = torch.utils.data.DataLoader(ds_train, batch_size = batch_size) \n",
    "\n",
    "# create dataset and dataloader for test\n",
    "ds_test = RunLahDataset(image_directory = \"captures\", key_frame = df_test, transform = transformer)\n",
    "dl_test = torch.utils.data.DataLoader(ds_test, batch_size = batch_size)"
   ]
  },
  {
   "cell_type": "code",
   "execution_count": 57,
   "id": "f2bb9969-dcfd-4d0e-a558-a838aa9a1f58",
   "metadata": {},
   "outputs": [
    {
     "name": "stderr",
     "output_type": "stream",
     "text": [
      "Clipping input data to the valid range for imshow with RGB data ([0..1] for floats or [0..255] for integers).\n",
      "Clipping input data to the valid range for imshow with RGB data ([0..1] for floats or [0..255] for integers).\n",
      "Clipping input data to the valid range for imshow with RGB data ([0..1] for floats or [0..255] for integers).\n",
      "Clipping input data to the valid range for imshow with RGB data ([0..1] for floats or [0..255] for integers).\n"
     ]
    },
    {
     "data": {
      "image/png": "[encoded data removed]",
      "text/plain": [
       "<Figure size 640x480 with 4 Axes>"
      ]
     },
     "metadata": {},
     "output_type": "display_data"
    }
   ],
   "source": [
    "# create iterator for train dataset\n",
    "iterate_dataset = iter(dl_train)\n",
    "# get next item from the iterator\n",
    "images, labels = next(iterate_dataset)\n",
    "\n",
    "# create plot to see sample of images in train dataset\n",
    "for img in range(len(images)):\n",
    "        image_plot = plt.subplot(2, 4, img + 1)\n",
    "        sample_image = (images[img].permute(1,2,0)*255.0).cpu()\n",
    "        image_plot.set_xticklabels([])   \n",
    "        image_plot.set_yticklabels([])  \n",
    "        image_plot.set_title(labels[img].item(), fontsize=15)  \n",
    "        plt.imshow(sample_image)        "
   ]
  },
  {
   "cell_type": "markdown",
   "id": "0e0652e6-a51f-4f13-a44e-ef572607904f",
   "metadata": {},
   "source": [
    "#### The numbers on top of the images correspond to the following actions:\n",
    "| Action  | Label |\n",
    "|:-------:|:-----:|\n",
    "|   Run   |   0   |\n",
    "|   Jump  |   1   |\n",
    "|   Duck  |   2   |"
   ]
  },
  {
   "cell_type": "markdown",
   "id": "17d817e1-dedd-48ff-80cf-c6773515e624",
   "metadata": {},
   "source": [
    "**Training Prerequisites: Model, Loss Function and Optimizer**"
   ]
  },
  {
   "cell_type": "code",
   "execution_count": 64,
   "id": "6aa940a9-5373-4dae-9e12-77a2aa5d81e0",
   "metadata": {},
   "outputs": [],
   "source": [
    "# set device to cuda (must be available)\n",
    "device = \"cuda\" if torch.cuda.is_available() else \"cpu\"\n",
    "\n",
    "# initialise EfficientNetV2-S model\n",
    "model = torchvision.models.efficientnet_v2_s()\n",
    "\n",
    "# out_features is 3 as we have 3 actions (seen in table above)\n",
    "model.classifier = torch.nn.Linear(in_features = 1280, out_features = 3)\n",
    "model = model.to(device)\n",
    "\n",
    "# chosen loss function: Cross-Entropy Loss\n",
    "criterion = torch.nn.CrossEntropyLoss()\n",
    "\n",
    "# chosen optimizer: Stochastic Gradient Descent (SGD) with learning rate of 0.01 and momentum of 0.009\n",
    "optimizer = optim.SGD(model.parameters(), lr=0.01, momentum=0.009)"
   ]
  },
  {
   "cell_type": "markdown",
   "id": "c9fd94e9-9158-406f-bb3f-17947ce9ff6d",
   "metadata": {},
   "source": [
    "**Training of Bot**"
   ]
  },
  {
   "cell_type": "code",
   "execution_count": 65,
   "id": "9b03a8d8-e08d-4d60-9b8d-baddb489d756",
   "metadata": {},
   "outputs": [
    {
     "name": "stderr",
     "output_type": "stream",
     "text": [
      "100%|██████████████████████████████████████████████████████████████████████████████████████████████████████████████████████████████████████████| 2051/2051 [23:08<00:00,  1.48it/s]\n"
     ]
    },
    {
     "name": "stdout",
     "output_type": "stream",
     "text": [
      "[1] | loss: 0.465\n"
     ]
    },
    {
     "name": "stderr",
     "output_type": "stream",
     "text": [
      "100%|██████████████████████████████████████████████████████████████████████████████████████████████████████████████████████████████████████████| 2051/2051 [20:35<00:00,  1.66it/s]\n"
     ]
    },
    {
     "name": "stdout",
     "output_type": "stream",
     "text": [
      "[2] | loss: 0.370\n"
     ]
    },
    {
     "name": "stderr",
     "output_type": "stream",
     "text": [
      "100%|██████████████████████████████████████████████████████████████████████████████████████████████████████████████████████████████████████████| 2051/2051 [15:10<00:00,  2.25it/s]\n"
     ]
    },
    {
     "name": "stdout",
     "output_type": "stream",
     "text": [
      "[3] | loss: 0.332\n"
     ]
    },
    {
     "name": "stderr",
     "output_type": "stream",
     "text": [
      "100%|██████████████████████████████████████████████████████████████████████████████████████████████████████████████████████████████████████████| 2051/2051 [15:13<00:00,  2.24it/s]\n"
     ]
    },
    {
     "name": "stdout",
     "output_type": "stream",
     "text": [
      "[4] | loss: 0.322\n"
     ]
    },
    {
     "name": "stderr",
     "output_type": "stream",
     "text": [
      "100%|██████████████████████████████████████████████████████████████████████████████████████████████████████████████████████████████████████████| 2051/2051 [15:16<00:00,  2.24it/s]\n"
     ]
    },
    {
     "name": "stdout",
     "output_type": "stream",
     "text": [
      "[5] | loss: 0.310\n"
     ]
    },
    {
     "name": "stderr",
     "output_type": "stream",
     "text": [
      "100%|██████████████████████████████████████████████████████████████████████████████████████████████████████████████████████████████████████████| 2051/2051 [15:12<00:00,  2.25it/s]\n"
     ]
    },
    {
     "name": "stdout",
     "output_type": "stream",
     "text": [
      "[6] | loss: 0.304\n"
     ]
    },
    {
     "name": "stderr",
     "output_type": "stream",
     "text": [
      "100%|██████████████████████████████████████████████████████████████████████████████████████████████████████████████████████████████████████████| 2051/2051 [23:31<00:00,  1.45it/s]\n"
     ]
    },
    {
     "name": "stdout",
     "output_type": "stream",
     "text": [
      "[7] | loss: 0.297\n"
     ]
    },
    {
     "name": "stderr",
     "output_type": "stream",
     "text": [
      "100%|██████████████████████████████████████████████████████████████████████████████████████████████████████████████████████████████████████████| 2051/2051 [15:27<00:00,  2.21it/s]\n"
     ]
    },
    {
     "name": "stdout",
     "output_type": "stream",
     "text": [
      "[8] | loss: 0.287\n"
     ]
    },
    {
     "name": "stderr",
     "output_type": "stream",
     "text": [
      "100%|██████████████████████████████████████████████████████████████████████████████████████████████████████████████████████████████████████████| 2051/2051 [15:05<00:00,  2.26it/s]\n"
     ]
    },
    {
     "name": "stdout",
     "output_type": "stream",
     "text": [
      "[9] | loss: 0.269\n"
     ]
    },
    {
     "name": "stderr",
     "output_type": "stream",
     "text": [
      "100%|██████████████████████████████████████████████████████████████████████████████████████████████████████████████████████████████████████████| 2051/2051 [15:04<00:00,  2.27it/s]\n"
     ]
    },
    {
     "name": "stdout",
     "output_type": "stream",
     "text": [
      "[10] | loss: 0.262\n"
     ]
    },
    {
     "name": "stderr",
     "output_type": "stream",
     "text": [
      "100%|██████████████████████████████████████████████████████████████████████████████████████████████████████████████████████████████████████████| 2051/2051 [15:06<00:00,  2.26it/s]\n"
     ]
    },
    {
     "name": "stdout",
     "output_type": "stream",
     "text": [
      "[11] | loss: 0.250\n"
     ]
    },
    {
     "name": "stderr",
     "output_type": "stream",
     "text": [
      "100%|██████████████████████████████████████████████████████████████████████████████████████████████████████████████████████████████████████████| 2051/2051 [15:03<00:00,  2.27it/s]\n"
     ]
    },
    {
     "name": "stdout",
     "output_type": "stream",
     "text": [
      "[12] | loss: 0.247\n"
     ]
    },
    {
     "name": "stderr",
     "output_type": "stream",
     "text": [
      "100%|██████████████████████████████████████████████████████████████████████████████████████████████████████████████████████████████████████████| 2051/2051 [15:05<00:00,  2.26it/s]\n"
     ]
    },
    {
     "name": "stdout",
     "output_type": "stream",
     "text": [
      "[13] | loss: 0.235\n"
     ]
    },
    {
     "name": "stderr",
     "output_type": "stream",
     "text": [
      "100%|██████████████████████████████████████████████████████████████████████████████████████████████████████████████████████████████████████████| 2051/2051 [15:02<00:00,  2.27it/s]\n"
     ]
    },
    {
     "name": "stdout",
     "output_type": "stream",
     "text": [
      "[14] | loss: 0.226\n"
     ]
    },
    {
     "name": "stderr",
     "output_type": "stream",
     "text": [
      "100%|██████████████████████████████████████████████████████████████████████████████████████████████████████████████████████████████████████████| 2051/2051 [15:05<00:00,  2.27it/s]\n"
     ]
    },
    {
     "name": "stdout",
     "output_type": "stream",
     "text": [
      "[15] | loss: 0.218\n"
     ]
    },
    {
     "name": "stderr",
     "output_type": "stream",
     "text": [
      "100%|██████████████████████████████████████████████████████████████████████████████████████████████████████████████████████████████████████████| 2051/2051 [15:02<00:00,  2.27it/s]\n"
     ]
    },
    {
     "name": "stdout",
     "output_type": "stream",
     "text": [
      "[16] | loss: 0.210\n"
     ]
    },
    {
     "name": "stderr",
     "output_type": "stream",
     "text": [
      "100%|██████████████████████████████████████████████████████████████████████████████████████████████████████████████████████████████████████████| 2051/2051 [15:04<00:00,  2.27it/s]\n"
     ]
    },
    {
     "name": "stdout",
     "output_type": "stream",
     "text": [
      "[17] | loss: 0.200\n"
     ]
    },
    {
     "name": "stderr",
     "output_type": "stream",
     "text": [
      "100%|██████████████████████████████████████████████████████████████████████████████████████████████████████████████████████████████████████████| 2051/2051 [15:02<00:00,  2.27it/s]\n"
     ]
    },
    {
     "name": "stdout",
     "output_type": "stream",
     "text": [
      "[18] | loss: 0.199\n"
     ]
    },
    {
     "name": "stderr",
     "output_type": "stream",
     "text": [
      "100%|██████████████████████████████████████████████████████████████████████████████████████████████████████████████████████████████████████████| 2051/2051 [15:02<00:00,  2.27it/s]\n"
     ]
    },
    {
     "name": "stdout",
     "output_type": "stream",
     "text": [
      "[19] | loss: 0.186\n"
     ]
    },
    {
     "name": "stderr",
     "output_type": "stream",
     "text": [
      "100%|██████████████████████████████████████████████████████████████████████████████████████████████████████████████████████████████████████████| 2051/2051 [15:01<00:00,  2.27it/s]\n"
     ]
    },
    {
     "name": "stdout",
     "output_type": "stream",
     "text": [
      "[20] | loss: 0.177\n",
      "\n",
      "Training has completed!\n",
      "Time Taken: 19463.696778059006\n"
     ]
    },
    {
     "data": {
      "image/png": "[encoded data removed]",
      "text/plain": [
       "<Figure size 640x480 with 1 Axes>"
      ]
     },
     "metadata": {},
     "output_type": "display_data"
    }
   ],
   "source": [
    "# set batch size to 10, 20 or 30\n",
    "epochs = 20  \n",
    "\n",
    "# list to store loss values after each epoch\n",
    "list_loss = [] \n",
    "\n",
    "tr = time.time()\n",
    "\n",
    "# iterate till the last epoch\n",
    "for epoch in range(epochs):  \n",
    "    # declare running loss\n",
    "    run_loss = 0.0\n",
    "\n",
    "    # load dataset in batches\n",
    "    for data in tqdm(dl_train, position=0, leave=True):\n",
    "        # get inputs\n",
    "        inputs, labels = data\n",
    "        inputs = inputs.to(device)\n",
    "        labels = labels.to(device)\n",
    "        \n",
    "        # zero the parameter gradients\n",
    "        optimizer.zero_grad()\n",
    "\n",
    "        # compare outputs to target labels\n",
    "        outputs = model(inputs)\n",
    "        loss = criterion(outputs, labels)\n",
    "\n",
    "        # backpropagation\n",
    "        loss.backward()\n",
    "\n",
    "        # update the model's weights\n",
    "        optimizer.step()\n",
    "\n",
    "        run_loss += loss.item()\n",
    "\n",
    "    # append run loss to list loss\n",
    "    list_loss.append(run_loss)\n",
    "\n",
    "    print(f'[{epoch + 1}] | loss: {run_loss / len(dl_train):.3f}')\n",
    "\n",
    "    # reset running loss\n",
    "    run_loss = 0.0\n",
    "\n",
    "print('\\nTraining has completed!')\n",
    "print('Time Taken: ' + str(time.time() - tr))\n",
    "\n",
    "# plot the loss curve\n",
    "plt.plot(np.linspace(1, epochs, epochs).astype(int), list_loss)\n",
    "plt.xlabel('Epochs')  \n",
    "plt.ylabel('Loss')  \n",
    "plt.title('Training Loss Over Epochs')  \n",
    "\n",
    "# clean up the gpu memory \n",
    "gc.collect()\n",
    "torch.cuda.empty_cache()"
   ]
  },
  {
   "cell_type": "markdown",
   "id": "94327c6d-fbcd-46d7-ab2f-f468d49114d8",
   "metadata": {},
   "source": [
    "**Save the trained model**"
   ]
  },
  {
   "cell_type": "code",
   "execution_count": 66,
   "id": "17ae6149-df12-48cb-aea3-802516e2d9a7",
   "metadata": {},
   "outputs": [],
   "source": [
    "PATH = 'efficientnet_s_20E_4BS.pth'\n",
    "torch.save(model.state_dict(), PATH)"
   ]
  },
  {
   "cell_type": "markdown",
   "id": "0473553f-3be9-41ab-8d6a-acb68b25e831",
   "metadata": {},
   "source": [
    "**Load the trained model for testing**"
   ]
  },
  {
   "cell_type": "code",
   "execution_count": 67,
   "id": "c3862a8b-291c-4280-abbe-1fc0ee5a2dc0",
   "metadata": {},
   "outputs": [],
   "source": [
    "trained_model = torchvision.models.efficientnet_v2_s()\n",
    "trained_model.classifier = torch.nn.Linear(in_features = 1280, out_features = 3)\n",
    "trained_model.load_state_dict(torch.load(PATH))\n",
    "trained_model = trained_model.to(device)\n",
    "saved_mode = trained_model.eval()"
   ]
  },
  {
   "cell_type": "markdown",
   "id": "7d8789b8-a1b4-4635-aaf4-01f0d8710c74",
   "metadata": {},
   "source": [
    "**Test trained model on test dataset**"
   ]
  },
  {
   "cell_type": "code",
   "execution_count": 68,
   "id": "0bc1096d-524a-42cd-98d1-9c448daf3d36",
   "metadata": {},
   "outputs": [
    {
     "name": "stderr",
     "output_type": "stream",
     "text": [
      "100%|████████████████████████████████████████████████████████████████████████████████████████████████████████████████████████████████████████████| 513/513 [02:25<00:00,  3.54it/s]"
     ]
    },
    {
     "name": "stdout",
     "output_type": "stream",
     "text": [
      "\n",
      "\n",
      " Accuracy of model on the test dataset: 90 %\n"
     ]
    },
    {
     "name": "stderr",
     "output_type": "stream",
     "text": [
      "\n"
     ]
    }
   ],
   "source": [
    "# keep track of correct and total predictions\n",
    "correct_predictions = 0\n",
    "total_predictions = 0\n",
    "\n",
    "with torch.no_grad():\n",
    "    # iterate test dataset\n",
    "    for data in tqdm(dl_test):\n",
    "        # get images and corresponding labels\n",
    "        images, labels = data\n",
    "        images = images.to(device)\n",
    "        labels = labels.to(device)\n",
    "\n",
    "        # get output\n",
    "        outputs = trained_model(images)\n",
    "\n",
    "        # convert model outputs to probabilities with softmax\n",
    "        # argmax used to determine the predicted class for each image\n",
    "        prediction = torch.softmax(outputs,dim = 1).argmax(dim = 1)\n",
    "\n",
    "        # update total predictions \n",
    "        total_predictions += labels.size(0)\n",
    "\n",
    "        # if the prediction matches the target label, update correct predictions\n",
    "        correct_predictions += (prediction == labels).sum().item()\n",
    "\n",
    "print(f'\\n\\n Accuracy of model on the test dataset: {100 * correct_predictions // total_predictions} %')"
   ]
  },
  {
   "cell_type": "code",
   "execution_count": null,
   "id": "2ce6e6ca-54e6-4e73-90d7-f0f93eb5deb5",
   "metadata": {},
   "outputs": [],
   "source": []
  }
 ],
 "metadata": {
  "kernelspec": {
   "display_name": "Python 3 (ipykernel)",
   "language": "python",
   "name": "python3"
  },
  "language_info": {
   "codemirror_mode": {
    "name": "ipython",
    "version": 3
   },
   "file_extension": ".py",
   "mimetype": "text/x-python",
   "name": "python",
   "nbconvert_exporter": "python",
   "pygments_lexer": "ipython3",
   "version": "3.11.0"
  }
 },
 "nbformat": 4,
 "nbformat_minor": 5
}
